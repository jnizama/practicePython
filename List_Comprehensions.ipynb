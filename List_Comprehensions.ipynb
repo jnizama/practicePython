{
  "nbformat": 4,
  "nbformat_minor": 0,
  "metadata": {
    "colab": {
      "provenance": [],
      "authorship_tag": "ABX9TyPsMSvQFyHeZpFcsG+0aqSm",
      "include_colab_link": true
    },
    "kernelspec": {
      "name": "python3",
      "display_name": "Python 3"
    },
    "language_info": {
      "name": "python"
    }
  },
  "cells": [
    {
      "cell_type": "markdown",
      "metadata": {
        "id": "view-in-github",
        "colab_type": "text"
      },
      "source": [
        "<a href=\"https://colab.research.google.com/github/jnizama/practicePython/blob/master/List_Comprehensions.ipynb\" target=\"_parent\"><img src=\"https://colab.research.google.com/assets/colab-badge.svg\" alt=\"Open In Colab\"/></a>"
      ]
    },
    {
      "cell_type": "markdown",
      "source": [
        "# Ejercicio:\n",
        "\n",
        "### Tienes una lista de palabras, y quieres crear una nueva lista que contenga solo las palabras que:\n",
        "\n",
        "- Tienen más de 4 letras.\n",
        "\n",
        "- No contienen la letra 'e'.\n",
        "\n",
        "- Empiezan con una consonante.\n",
        "\n"
      ],
      "metadata": {
        "id": "d00dydQnRlh-"
      }
    },
    {
      "cell_type": "code",
      "execution_count": 1,
      "metadata": {
        "id": "o3mGkQPKRg8M"
      },
      "outputs": [],
      "source": [
        "words = [\"apple\", \"banana\", \"cherry\", \"date\", \"grape\", \"kiwi\", \"plum\", \"strawberry\", \"melon\", \"fig\", \"apricot\"]\n"
      ]
    },
    {
      "cell_type": "code",
      "source": [
        "listResult = [w for w in words if (len(w) > 4)]"
      ],
      "metadata": {
        "id": "bicJ73HVR4XN"
      },
      "execution_count": 3,
      "outputs": []
    },
    {
      "cell_type": "code",
      "source": [
        "print(listResult)"
      ],
      "metadata": {
        "colab": {
          "base_uri": "https://localhost:8080/"
        },
        "id": "cCdXy4p5SRzX",
        "outputId": "e94f797e-433e-4309-8c70-ca68cc27b3c0"
      },
      "execution_count": 4,
      "outputs": [
        {
          "output_type": "stream",
          "name": "stdout",
          "text": [
            "['apple', 'banana', 'cherry', 'grape', 'strawberry', 'melon', 'apricot']\n"
          ]
        }
      ]
    },
    {
      "cell_type": "code",
      "source": [
        "listResult = [w for w in words if (len(w) > 4 and 'e' not in w )]"
      ],
      "metadata": {
        "id": "GlVNJRRqSTOz"
      },
      "execution_count": 21,
      "outputs": []
    },
    {
      "cell_type": "code",
      "source": [
        "listResult"
      ],
      "metadata": {
        "colab": {
          "base_uri": "https://localhost:8080/"
        },
        "id": "UfBoFRqASlP9",
        "outputId": "a862e11f-f693-4606-d3ed-7f7e49bbb336"
      },
      "execution_count": 22,
      "outputs": [
        {
          "output_type": "execute_result",
          "data": {
            "text/plain": [
              "['banana', 'apricot']"
            ]
          },
          "metadata": {},
          "execution_count": 22
        }
      ]
    },
    {
      "cell_type": "code",
      "source": [
        "# Tarea Completada\n",
        "listResult = [w for w in words if (len(w) > 4 and 'e' not in w and w[0] not in 'aeiou' )]"
      ],
      "metadata": {
        "id": "Y0Q0jHWaSmOk"
      },
      "execution_count": 23,
      "outputs": []
    },
    {
      "cell_type": "code",
      "source": [
        "listResult"
      ],
      "metadata": {
        "colab": {
          "base_uri": "https://localhost:8080/"
        },
        "id": "2jjcnfsFUP4S",
        "outputId": "90329d61-532d-45f4-97e9-4864adc52f4e"
      },
      "execution_count": 24,
      "outputs": [
        {
          "output_type": "execute_result",
          "data": {
            "text/plain": [
              "['banana']"
            ]
          },
          "metadata": {},
          "execution_count": 24
        }
      ]
    },
    {
      "cell_type": "code",
      "source": [],
      "metadata": {
        "id": "YRrlfSdXUQ_M"
      },
      "execution_count": null,
      "outputs": []
    }
  ]
}